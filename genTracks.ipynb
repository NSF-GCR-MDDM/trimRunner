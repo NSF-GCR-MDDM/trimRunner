{
 "cells": [
  {
   "cell_type": "markdown",
   "id": "ad9cc331",
   "metadata": {},
   "source": [
    "Sample code showing how to read in root files containing parsed TRIM data. Also contains some code to calculate 3D rotations and plot.\n",
    "\n",
    "Requirements (can all be installed via pip)\n",
    "- uproot\n",
    "- numpy\n",
    "- matplotlib (only if using for plotting)\n",
    "- numba (for speeding up rotation calculation)"
   ]
  },
  {
   "cell_type": "code",
   "execution_count": null,
   "id": "2c6fbc5f",
   "metadata": {},
   "outputs": [],
   "source": [
    "import numpy as np\n",
    "import uproot as up\n",
    "import matplotlib.pyplot as plt\n",
    "from matplotlib.colors import LogNorm\n",
    "from numba import njit\n",
    "import sys\n",
    "import os"
   ]
  },
  {
   "cell_type": "code",
   "execution_count": null,
   "id": "5e9a0c3e",
   "metadata": {},
   "outputs": [
    {
     "name": "stdout",
     "output_type": "stream",
     "text": [
      "All files found!\n",
      "Loaded data\n"
     ]
    }
   ],
   "source": [
    "#When sampling tracks, these are the names to use to refer to the specific data files below. For instance,\n",
    "#if you wanted to sample a proton track your code could ask for \"1H\" in this list, or \"proton\" if you change \n",
    "#the same to that. Load what you need\n",
    "#recoilIonsNames = [\"1H\",\"3H\",\"4He\",\"6Li\",\"7Li\",\"19F\"]\n",
    "\n",
    "#Locations of files. THE ORDERING MUST CORRESPOND TO THE ABOVE NAMES\n",
    "#parsedTrimFilenames = [\"data/LiF/RAW/1H.root\", \"data/LiF/RAW/3H.root\", \"data/LiF/RAW/4He.root\",\n",
    "#                       \"data/LiF/RAW/6Li.root\",\"data/LiF/RAW/7Li.root\",\"data/LiF/RAW/19F.root\"]\n",
    "\n",
    "recoilIonsNames = [\"7Li\"]\n",
    "parsedTrimFilenames = [\"data/LiF/RAW/7Li.root\"]\n",
    "\n",
    "#Error checking\n",
    "if not len(recoilIonsNames)==len(parsedTrimFilenames):\n",
    "  print(\"Error! recoilIonNames array and parsedTrimFilenames must be the same length\")\n",
    "  sys.exit()\n",
    "filesExist = [1 if os.path.isfile(f) else 0 for f in parsedTrimFilenames ]\n",
    "for idx,f in enumerate(filesExist):\n",
    "  if f==0:\n",
    "    print(\"Error! Could not find file \"+parsedTrimFilenames[idx])\n",
    "    sys.exit()\n",
    "print(\"All files found!\")\n",
    "\n",
    "#Open files, get TTrees\n",
    "rootFiles = [up.open(i) for i in parsedTrimFilenames]\n",
    "trees = [f[\"trimTree\"] for f in rootFiles]\n",
    "\n",
    "#Load up array of energies--this is all we keep in memory to avoid large usage\n",
    "energies = [tree[\"energy_keV\"].array(library=\"np\") for tree in trees]\n",
    "\n",
    "print(\"Loaded data\")"
   ]
  },
  {
   "cell_type": "code",
   "execution_count": null,
   "id": "6472aa13",
   "metadata": {},
   "outputs": [
    {
     "name": "stdout",
     "output_type": "stream",
     "text": [
      "sorted? True\n"
     ]
    }
   ],
   "source": [
    "#Takes in event energy, an ion name (matching a name in recoilIonNames), and \n",
    "# an optional energy width to use when sampling tracks and optional rng_generator instance\n",
    "#Returns an array of track points xs,ys,zs,nVacs\n",
    "\n",
    "def sampleTrack(energy,ionName,energyWidth_keV=2.5,rng=np.random.default_rng()):\n",
    "  #Check ion we want to generate tracks for is in our list of recoil ions\n",
    "  if not ionName in recoilIonsNames:\n",
    "    print(ionName+\" not found in recoilIonNames!\")\n",
    "    return [],[],[],[]\n",
    "  #Get index\n",
    "  ionIdx = recoilIonsNames.index(ionName)\n",
    "\n",
    "  #Get valid energy indices don't take advantage of the fact that the energies array is faster but testing did not show much speed up\n",
    "  validEnergyIdxs = np.where((energies[ionIdx] >= energy - energyWidth_keV) & (energies[ionIdx] <= energy + energyWidth_keV))[0]\n",
    "  if len(validEnergyIdxs) == 0:\n",
    "    return [],[],[],[]\n",
    "  #Randomly sample an index in validEnergyIdxs\n",
    "  randIdx = rng.choice(validEnergyIdxs)\n",
    "\n",
    "  #Load data from disk\n",
    "  track = trees[ionIdx].arrays([\"xs_nm\",\"ys_nm\",\"zs_nm\",\"nVacs\"],entry_start=randIdx,entry_stop=randIdx+1,library=\"np\")\n",
    "  return track[\"xs_nm\"][0],track[\"ys_nm\"][0],track[\"zs_nm\"][0],track[\"nVacs\"][0]\n",
    "\n",
    "#Takes lists of track coordinates (xs,ys,zs) and a desired rotation direction (given by u,v,w - we check for normalization inside)\n",
    "#Returns track locations rotated to that direction. \n",
    "#The events from TRIM were all thrown in the (1,0,0) direction.\n",
    "@njit\n",
    "def getRotatedCoords(u, v, w, xs, ys, zs):\n",
    "    sinThetaCutoff = 0.00000174532\n",
    "    n = len(xs)\n",
    "\n",
    "    xs_out = np.empty(n, dtype=np.float32)\n",
    "    ys_out = np.empty(n, dtype=np.float32)\n",
    "    zs_out = np.empty(n, dtype=np.float32)\n",
    "\n",
    "    # Normalize direction\n",
    "    mag = np.sqrt(u*u + v*v + w*w)\n",
    "    if mag == 0:\n",
    "        return xs_out, ys_out, zs_out #May want to check these are not empty in the output if badd u,v,w vector passed in.\n",
    "    u /= mag\n",
    "    v /= mag\n",
    "    w /= mag\n",
    "\n",
    "    # Skip rotation if aligned with x-axis\n",
    "    cosTheta = u\n",
    "    sinTheta = np.sqrt(1 - cosTheta * cosTheta)\n",
    "    if sinTheta < sinThetaCutoff:\n",
    "        return xs, ys, zs\n",
    "\n",
    "    # Rotation axis (1,0,0) x (u,v,w)\n",
    "    kx, ky, kz = 0., w, -v\n",
    "    k_norm = np.sqrt(ky*ky + kz*kz)\n",
    "    ky /= k_norm\n",
    "    kz /= k_norm\n",
    "\n",
    "    for i in range(n):\n",
    "        vx, vy, vz = xs[i], ys[i], zs[i]\n",
    "\n",
    "        # v·k\n",
    "        dot = vy * ky + vz * kz\n",
    "\n",
    "        # k × v\n",
    "        cross_x = 0\n",
    "        cross_y = vz * kx - vx * kz  # = -vx * kz\n",
    "        cross_z = vx * ky - vy * kx  # = vx * ky\n",
    "\n",
    "        # Rodrigues\n",
    "        xs_out[i] = vx * cosTheta + cross_x * sinTheta + kx * dot * (1 - cosTheta)\n",
    "        ys_out[i] = vy * cosTheta + cross_y * sinTheta + ky * dot * (1 - cosTheta)\n",
    "        zs_out[i] = vz * cosTheta + cross_z * sinTheta + kz * dot * (1 - cosTheta)\n",
    "\n",
    "    return xs_out, ys_out, zs_out\n"
   ]
  },
  {
   "cell_type": "markdown",
   "id": "2078e5a9",
   "metadata": {},
   "source": [
    "Everything else should be up to you. We'll give an example rotating 500-keV 6Li tracks to the 45 degrees on the xy axis and plot 100 of them stacked as a test. We only plot F2 vacancies here. We use the default width when sampling tracks of 2.5 keV, so we're really sampling tracks from 497.5 keV to 502.5 keV"
   ]
  },
  {
   "cell_type": "code",
   "execution_count": null,
   "id": "770f6d44",
   "metadata": {},
   "outputs": [
    {
     "data": {
      "image/png": "[encoded data removed]",
      "text/plain": [
       "<Figure size 432x288 with 2 Axes>"
      ]
     },
     "metadata": {
      "needs_background": "light"
     },
     "output_type": "display_data"
    },
    {
     "data": {
      "text/plain": [
       "<Figure size 432x288 with 0 Axes>"
      ]
     },
     "metadata": {},
     "output_type": "display_data"
    }
   ],
   "source": [
    "generator = np.random.default_rng()\n",
    "\n",
    "all_xs = []\n",
    "all_ys = []\n",
    "\n",
    "for i in range(0,100):\n",
    "  xs,ys,zs,nVacs = sampleTrack(500,\"7Li\",rng=generator)\n",
    "  rot_xs,rot_ys,rot_zs = getRotatedCoords(1,1,0,xs,ys,zs)\n",
    "  \n",
    "  #Make a mask of only those entries with nVacss=2\n",
    "  mask = (np.array(nVacs) == 2)\n",
    "\n",
    "  all_xs.append(np.array(rot_xs)[mask])\n",
    "  all_ys.append(np.array(rot_ys)[mask])\n",
    "\n",
    "#Make into flat arrays\n",
    "xs_flat = np.concatenate(all_xs)\n",
    "ys_flat = np.concatenate(all_ys)\n",
    "\n",
    "#plot\n",
    "plt.hist2d(xs_flat, ys_flat, bins=250, cmap='viridis', norm=LogNorm())\n",
    "plt.xlabel(\"x [nm]\")\n",
    "plt.ylabel(\"y [nm]\")\n",
    "plt.colorbar(label=\"Counts\")\n",
    "plt.show()\n"
   ]
  }
 ],
 "metadata": {
  "kernelspec": {
   "display_name": "Python 3",
   "language": "python",
   "name": "python3"
  },
  "language_info": {
   "codemirror_mode": {
    "name": "ipython",
    "version": 3
   },
   "file_extension": ".py",
   "mimetype": "text/x-python",
   "name": "python",
   "nbconvert_exporter": "python",
   "pygments_lexer": "ipython3",
   "version": "3.9.6"
  }
 },
 "nbformat": 4,
 "nbformat_minor": 5
}
